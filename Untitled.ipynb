{
 "cells": [
  {
   "cell_type": "code",
   "execution_count": null,
   "metadata": {},
   "outputs": [],
   "source": [
    "\n"
   ]
  },
  {
   "cell_type": "code",
   "execution_count": 6,
   "metadata": {},
   "outputs": [],
   "source": [
    "from pymongo import MongoClient\n",
    "import pandas as pd\n",
    "\n",
    "class FraudMongo(object):\n",
    "    \n",
    "    def __init__(self):\n",
    "        self.client=MongoClient()\n",
    "       \n",
    "    def dataframeToMongo(self,df):\n",
    "        self.dataframe=df\n",
    "        self.collection=self.client.fraudDb.collection\n",
    "        self.collection.insert_many(self.dataframe.to_dict('records'))\n",
    "        \n",
    "    \n",
    "    def getDataframe(self):\n",
    "        return self.dataframe\n",
    "    \n",
    "    def updateDataframe(self,newdf)\n",
    "        self.dataframe=newdf\n",
    "        self.dataframeToMongo(self.dataframe)\n",
    "        \n",
    "    def printDataframe(self):\n",
    "        return self.dataframe.head()\n",
    "\n",
    "\n",
    "  "
   ]
  },
  {
   "cell_type": "code",
   "execution_count": null,
   "metadata": {},
   "outputs": [],
   "source": []
  },
  {
   "cell_type": "code",
   "execution_count": null,
   "metadata": {
    "collapsed": true
   },
   "outputs": [],
   "source": []
  }
 ],
 "metadata": {
  "kernelspec": {
   "display_name": "Python 2",
   "language": "python",
   "name": "python2"
  },
  "language_info": {
   "codemirror_mode": {
    "name": "ipython",
    "version": 2
   },
   "file_extension": ".py",
   "mimetype": "text/x-python",
   "name": "python",
   "nbconvert_exporter": "python",
   "pygments_lexer": "ipython2",
   "version": "2.7.13"
  }
 },
 "nbformat": 4,
 "nbformat_minor": 2
}
